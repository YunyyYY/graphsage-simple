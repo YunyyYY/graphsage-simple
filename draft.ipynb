{
 "cells": [
  {
   "cell_type": "code",
   "execution_count": 1,
   "metadata": {},
   "outputs": [],
   "source": [
    "import pandas as pd\n",
    "import numpy as np\n",
    "from datetime import datetime\n",
    "\n",
    "# from utils import "
   ]
  },
  {
   "cell_type": "code",
   "execution_count": 2,
   "metadata": {},
   "outputs": [],
   "source": [
    "# filter out movies with tags\n",
    "feat_csv = pd.read_csv('mv/features.csv')\n",
    "\n",
    "# movie_table = pd.read_csv('mv/movies.csv')\n",
    "# movie_table = movie_table[movie_table.MovieID.isin(feat_csv.mvid)]\n",
    "# movie_table.to_csv('mv/movie_with_tags.csv')"
   ]
  },
  {
   "cell_type": "code",
   "execution_count": 2,
   "metadata": {},
   "outputs": [
    {
     "name": "stdout",
     "output_type": "stream",
     "text": [
      "Build complete.\n",
      "Write to disk complete.\n"
     ]
    }
   ],
   "source": [
    "movie = pd.read_csv('mv/movie_with_tags.csv')\n",
    "rating = pd.read_csv('mv/ratings.dat', sep='::', engine='python', header=None,\n",
    "                          names=[\"UserID\", \"MovieID\", \"Rating\", \"Timestamp\"])\n",
    "threshold = 10\n",
    "year = 1997\n",
    "time_stamp = datetime(year=year, month=1, day=1).timestamp()\n",
    "movie = movie[movie.Year < year]\n",
    "rating = rating[rating.Timestamp < time_stamp]\n",
    "\n",
    "AdjRaw = np.zeros((movie.shape[0], movie.shape[0]), dtype='uint16')\n",
    "idSet = {key: i for i, key in enumerate(movie.MovieID)}\n",
    "user_set = rating.groupby(\"UserID\")[\"MovieID\"].apply(list).reset_index(name='mvList')\n",
    "\n",
    "for _, row in user_set.iterrows():\n",
    "    for mv in row.mvList:\n",
    "        try:\n",
    "            x = idSet[mv]\n",
    "            for peer in row.mvList:\n",
    "                if peer == mv:\n",
    "                    pass\n",
    "                elif peer in idSet:\n",
    "                    y = idSet[peer]\n",
    "                    AdjRaw[x, y] += 1\n",
    "                    AdjRaw[y, x] += 1\n",
    "        except:\n",
    "            pass\n",
    "Adj_mat = (AdjRaw > threshold).astype(int)\n",
    "print(\"Build complete.\")\n",
    "\n",
    "with open('mv/adj_list_y1996.txt', 'w') as f:\n",
    "    for k, v in idSet.items():\n",
    "        for mv in movie.MovieID[Adj_mat[v] == 1]:\n",
    "            f.write(\"{} {}\\n\".format(k, mv))\n",
    "print(\"Write to disk complete.\")"
   ]
  },
  {
   "cell_type": "code",
   "execution_count": 28,
   "metadata": {},
   "outputs": [],
   "source": [
    "# directly use adj list\n",
    "\n",
    "# for _, row in user_set.iterrows():\n",
    "#     for me in row.mvList:\n",
    "#         for peer in row.mvList:\n",
    "#             if peer != me:\n",
    "#                 try:\n",
    "#                     movie_list[me] |= {peer}\n",
    "#                 except: \n",
    "#                     pass"
   ]
  },
  {
   "cell_type": "code",
   "execution_count": 3,
   "metadata": {},
   "outputs": [],
   "source": [
    "# obj_name = \"mv/rating-y1995-t10.obj\"\n",
    "# mvg = load_graph(obj_name)\n",
    "feat_csv = pd.read_csv('mv/features.csv')\n",
    "feat_csv = feat_csv[feat_csv.mvid.isin(idSet.keys())]"
   ]
  },
  {
   "cell_type": "code",
   "execution_count": 4,
   "metadata": {},
   "outputs": [],
   "source": [
    "# with open('mv/features_y1996.txt', 'w') as f:\n",
    "def to_int(line):\n",
    "    line = line[1:-1].split(\", \")\n",
    "    line = [int(float(i)) for i in line]\n",
    "    return line"
   ]
  },
  {
   "cell_type": "code",
   "execution_count": 5,
   "metadata": {},
   "outputs": [],
   "source": [
    "feat_csv.features = feat_csv.features.apply(to_int)"
   ]
  },
  {
   "cell_type": "code",
   "execution_count": 6,
   "metadata": {},
   "outputs": [
    {
     "name": "stdout",
     "output_type": "stream",
     "text": [
      "16007\n"
     ]
    }
   ],
   "source": [
    "for _, row in feat_csv.iterrows():\n",
    "    print(len(row.features))\n",
    "    break\n"
   ]
  },
  {
   "cell_type": "code",
   "execution_count": null,
   "metadata": {},
   "outputs": [],
   "source": [
    "num_nodes = 4412  # Adj_mat.shape[0]\n",
    "num_feats = 16007"
   ]
  },
  {
   "cell_type": "code",
   "execution_count": 7,
   "metadata": {},
   "outputs": [],
   "source": [
    "with open('mv/features_y1996.txt', 'w') as f:\n",
    "    for _, row in feat_csv.iterrows():\n",
    "        f.write(str(row.mvid))\n",
    "        for x in row.features:\n",
    "            f.write(\" {}\".format(x))\n",
    "        f.write('\\n')"
   ]
  },
  {
   "cell_type": "code",
   "execution_count": 8,
   "metadata": {},
   "outputs": [],
   "source": [
    "def to_int2(line):\n",
    "    line = line[1:-1].split(\", \")\n",
    "    line = [int(i) for i in line]\n",
    "    return line\n",
    "\n",
    "def normalize(line):\n",
    "    line = np.array(line)\n",
    "    return line / sum(line)"
   ]
  },
  {
   "cell_type": "code",
   "execution_count": 9,
   "metadata": {},
   "outputs": [],
   "source": [
    "movie.gencode = movie.gencode.apply(to_int2)\n",
    "# movie.gencode = movie.gencode.apply(normalize)"
   ]
  },
  {
   "cell_type": "code",
   "execution_count": 10,
   "metadata": {},
   "outputs": [],
   "source": [
    "with open('mv/labels_y1996.txt', 'w') as f:\n",
    "    for _, row in movie.iterrows():\n",
    "        f.write(str(row.MovieID))\n",
    "        for x in row.gencode:\n",
    "            f.write(\" {}\".format(x))\n",
    "        f.write('\\n')"
   ]
  },
  {
   "cell_type": "code",
   "execution_count": 18,
   "metadata": {},
   "outputs": [
    {
     "data": {
      "text/plain": [
       "[2.0, 3.0, 4.0, 5.0]"
      ]
     },
     "execution_count": 18,
     "metadata": {},
     "output_type": "execute_result"
    }
   ],
   "source": [
    "a = [1, 2, 3,4, 5]\n",
    "a[1:]\n",
    "list(map(float, a[1:]))"
   ]
  },
  {
   "cell_type": "code",
   "execution_count": 11,
   "metadata": {},
   "outputs": [],
   "source": [
    "!awk 'NF' mv/features_y1996.txt > mv/y1996.feature\n",
    "!awk 'NF' mv/labels_y1996.txt > mv/y1996.label\n",
    "!awk 'NF' mv/adj_list_y1996.txt > mv/y1996.adj.list"
   ]
  },
  {
   "cell_type": "code",
   "execution_count": 12,
   "metadata": {},
   "outputs": [],
   "source": [
    "from collections import defaultdict\n",
    "def normalize(line):\n",
    "    line = np.array(line)\n",
    "    if sum(line) == 0:\n",
    "        return line\n",
    "    else:\n",
    "        return line / sum(line)\n",
    "\n",
    "def load_mv():\n",
    "    \n",
    "    num_nodes = 4412  # wc -l cora/cora.content 2708\n",
    "    num_feats = 16007\n",
    "    feat_data = np.zeros((num_nodes, num_feats))\n",
    "    labels = np.empty((num_nodes, 19))  # num_nodes x 19\n",
    "    # maps are used to index\n",
    "    node_map = {}\n",
    "    with open(\"mv/y1996.feature\") as fp:\n",
    "        for i, line in enumerate(fp):\n",
    "            info = line.strip().split()  # len(info) = 1435\n",
    "            feat_data[i, :] = normalize(list(map(float, info[1:])))  # not include head\n",
    "            node_map[info[0]] = i\n",
    "            \n",
    "    with open(\"mv/y1996.label\") as fp:\n",
    "        for i, line in enumerate(fp):\n",
    "            info = line.strip().split()\n",
    "            labels[i, :] = list(map(float, info[1:]))\n",
    "\n",
    "    adj_lists = defaultdict(set)  # so that each value in adj_lists is a set\n",
    "    with open(\"mv/y1996.adj.list\") as fp:\n",
    "        for i, line in enumerate(fp):\n",
    "            info = line.strip().split()\n",
    "            mv1 = node_map[info[0]]\n",
    "            mv2 = node_map[info[1]]\n",
    "            adj_lists[mv1].add(mv2)\n",
    "            adj_lists[mv2].add(mv1)\n",
    "    return feat_data, labels, adj_lists"
   ]
  },
  {
   "cell_type": "code",
   "execution_count": null,
   "metadata": {},
   "outputs": [],
   "source": [
    "a, b, c = load_mv()"
   ]
  },
  {
   "cell_type": "code",
   "execution_count": 30,
   "metadata": {},
   "outputs": [
    {
     "data": {
      "text/plain": [
       "defaultdict(set, {})"
      ]
     },
     "execution_count": 30,
     "metadata": {},
     "output_type": "execute_result"
    }
   ],
   "source": [
    "c"
   ]
  },
  {
   "cell_type": "markdown",
   "metadata": {},
   "source": [
    "## Evaluate result"
   ]
  },
  {
   "cell_type": "code",
   "execution_count": 2,
   "metadata": {},
   "outputs": [],
   "source": [
    "import numpy as np"
   ]
  },
  {
   "cell_type": "code",
   "execution_count": 30,
   "metadata": {},
   "outputs": [],
   "source": [
    "lb_val = np.load('labels_val.npz.npy')\n",
    "val_out = np.load('val_output.npz.npy')"
   ]
  },
  {
   "cell_type": "code",
   "execution_count": 36,
   "metadata": {},
   "outputs": [],
   "source": [
    "val_out2 = np.exp(val_out) - 1"
   ]
  },
  {
   "cell_type": "code",
   "execution_count": 37,
   "metadata": {},
   "outputs": [],
   "source": [
    "lb_val[lb_val>0] = 1\n",
    "val_out2[val_out2>0] = 1\n",
    "val_out2[val_out2<0] = 0\n",
    "# hamming_loss(lb_val, val_out)"
   ]
  },
  {
   "cell_type": "code",
   "execution_count": 9,
   "metadata": {},
   "outputs": [],
   "source": [
    "from sklearn.metrics import hamming_loss"
   ]
  },
  {
   "cell_type": "code",
   "execution_count": 26,
   "metadata": {},
   "outputs": [],
   "source": [
    "lb_val[lb_val>0] = 1\n",
    "val_out[val_out>0] = 1\n",
    "val_out[val_out<0] = 0\n",
    "# hamming_loss(lb_val, val_out)"
   ]
  },
  {
   "cell_type": "code",
   "execution_count": 27,
   "metadata": {},
   "outputs": [
    {
     "data": {
      "text/plain": [
       "array([1., 1., 0., 0., 0., 1., 0., 0., 0., 1., 0., 1., 0., 0., 1., 0., 0.,\n",
       "       0., 0.], dtype=float32)"
      ]
     },
     "execution_count": 27,
     "metadata": {},
     "output_type": "execute_result"
    }
   ],
   "source": [
    "val_out[0]"
   ]
  },
  {
   "cell_type": "code",
   "execution_count": 29,
   "metadata": {},
   "outputs": [
    {
     "data": {
      "text/plain": [
       "0.1876842105263158"
      ]
     },
     "execution_count": 29,
     "metadata": {},
     "output_type": "execute_result"
    }
   ],
   "source": [
    "hamming_loss(lb_val, val_out)"
   ]
  },
  {
   "cell_type": "code",
   "execution_count": 38,
   "metadata": {},
   "outputs": [
    {
     "data": {
      "text/plain": [
       "0.1876842105263158"
      ]
     },
     "execution_count": 38,
     "metadata": {},
     "output_type": "execute_result"
    }
   ],
   "source": [
    "hamming_loss(lb_val, val_out2)"
   ]
  },
  {
   "cell_type": "code",
   "execution_count": null,
   "metadata": {},
   "outputs": [],
   "source": []
  }
 ],
 "metadata": {
  "kernelspec": {
   "display_name": "Python 3",
   "language": "python",
   "name": "python3"
  },
  "language_info": {
   "codemirror_mode": {
    "name": "ipython",
    "version": 3
   },
   "file_extension": ".py",
   "mimetype": "text/x-python",
   "name": "python",
   "nbconvert_exporter": "python",
   "pygments_lexer": "ipython3",
   "version": "3.7.3"
  }
 },
 "nbformat": 4,
 "nbformat_minor": 4
}
