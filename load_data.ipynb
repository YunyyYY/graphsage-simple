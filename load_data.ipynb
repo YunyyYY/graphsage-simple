{
 "cells": [
  {
   "cell_type": "code",
   "execution_count": 1,
   "metadata": {},
   "outputs": [],
   "source": [
    "import pandas as pd\n",
    "import numpy as np\n",
    "from datetime import datetime"
   ]
  },
  {
   "cell_type": "markdown",
   "metadata": {},
   "source": [
    "### Target\n",
    "Generate movie features\n",
    "- `mv.edge` each line is `x, y` represents an edge\n",
    "- `mv.feature` each line is index + feature `index, x1, x2, x3, ...`\n",
    "- `mv.label` each line is index + label list, 1 for has 0 for not\n",
    "\n",
    "Two kinds of data:\n",
    "- `before_YY` for training, before year `YY`.\n",
    "- `year_YY` for testing, movie in year `YY`.\n",
    "\n",
    "### Source\n",
    "- `movies.dat    MovieID::Title::Genres`.\n",
    "- `ratings.dat    UserID::MovieID::Rating::Timestamp`.\n",
    "- `tags.dat    UserID::MovieID::Tag::Timestamp`."
   ]
  },
  {
   "cell_type": "code",
   "execution_count": 125,
   "metadata": {},
   "outputs": [],
   "source": [
    "tags = pd.read_csv('ml-10m/tags.dat', sep='::', engine='python', header=None,\n",
    "                   names=[\"UserID\", \"MovieID\", \"Tag\", \"Timestamp\"])"
   ]
  },
  {
   "cell_type": "code",
   "execution_count": 5,
   "metadata": {},
   "outputs": [],
   "source": [
    "movies = pd.read_csv('ml-10m/movies.dat', sep='::', engine='python',\n",
    "                         header=None,\n",
    "                         names=[\"MovieID\", \"Title\", \"Genres\"])"
   ]
  },
  {
   "cell_type": "markdown",
   "metadata": {},
   "source": [
    "### 1. Filter movies according to tags, encode genres and store as one-hot string"
   ]
  },
  {
   "cell_type": "code",
   "execution_count": 13,
   "metadata": {},
   "outputs": [],
   "source": [
    "movies = movies[movies.MovieID.isin(tags.MovieID.unique())]\n",
    "movies[\"Year\"] = movies.Title.apply(lambda x: int(x[-5:-1]))\n",
    "movies[\"Title\"] = movies.Title.apply(lambda x: x[0:-7])"
   ]
  },
  {
   "cell_type": "code",
   "execution_count": 58,
   "metadata": {},
   "outputs": [],
   "source": [
    "genres = np.array(['Adventure', 'Animation', 'Children', 'Comedy', 'Fantasy', 'Romance',\n",
    "                       'Drama', 'Action', 'Crime', 'Thriller', 'Horror', 'Mystery', 'Sci-Fi',\n",
    "                       'IMAX','Documentary', 'War', 'Musical', 'Film-Noir', 'Western'])\n",
    "\n",
    "def encode(glist):\n",
    "    glist = glist.split('|')\n",
    "    gen = ''\n",
    "    for x in genres:\n",
    "        if x in glist:\n",
    "            gen += '1'\n",
    "        else:\n",
    "            gen += '0'\n",
    "    return gen\n",
    "\n",
    "movies['Gencode'] = movies.Genres.apply(encode)"
   ]
  },
  {
   "cell_type": "code",
   "execution_count": 59,
   "metadata": {},
   "outputs": [
    {
     "data": {
      "text/plain": [
       "0    1111100000000000000\n",
       "1    1010100000000000000\n",
       "2    0001010000000000000\n",
       "3    0001011000000000000\n",
       "4    0001000000000000000\n",
       "Name: Gencode, dtype: object"
      ]
     },
     "execution_count": 59,
     "metadata": {},
     "output_type": "execute_result"
    }
   ],
   "source": [
    "movies.head().Gencode"
   ]
  },
  {
   "cell_type": "code",
   "execution_count": 64,
   "metadata": {},
   "outputs": [],
   "source": [
    "movies.to_csv('ml-10m/movies.csv', index=False)"
   ]
  },
  {
   "cell_type": "markdown",
   "metadata": {},
   "source": [
    "### 2. Create user list of rated movies"
   ]
  },
  {
   "cell_type": "code",
   "execution_count": 65,
   "metadata": {},
   "outputs": [],
   "source": [
    "rating = pd.read_csv('ml-10m/ratings.dat', sep='::', engine='python', \n",
    "                     header=None,names=[\"UserID\", \"MovieID\", \"Rating\", \"Timestamp\"])\n",
    "rating = rating[rating.MovieID.isin(tags.MovieID.unique())]"
   ]
  },
  {
   "cell_type": "code",
   "execution_count": 90,
   "metadata": {},
   "outputs": [],
   "source": [
    "def year(timestamp):\n",
    "    return datetime.fromtimestamp(timestamp).year\n",
    "\n",
    "rating['Year'] = rating.Timestamp.apply(year)\n",
    "rate = rating[['UserID', 'Year', 'MovieID']]\n",
    "user = rating.groupby(['UserID', 'Year'])['MovieID'].apply(list).reset_index(name='Movies')"
   ]
  },
  {
   "cell_type": "code",
   "execution_count": 91,
   "metadata": {},
   "outputs": [],
   "source": [
    "user.to_csv('ml-10m/users.csv', index=False)"
   ]
  },
  {
   "cell_type": "code",
   "execution_count": 93,
   "metadata": {},
   "outputs": [
    {
     "data": {
      "text/html": [
       "<div>\n",
       "<style scoped>\n",
       "    .dataframe tbody tr th:only-of-type {\n",
       "        vertical-align: middle;\n",
       "    }\n",
       "\n",
       "    .dataframe tbody tr th {\n",
       "        vertical-align: top;\n",
       "    }\n",
       "\n",
       "    .dataframe thead th {\n",
       "        text-align: right;\n",
       "    }\n",
       "</style>\n",
       "<table border=\"1\" class=\"dataframe\">\n",
       "  <thead>\n",
       "    <tr style=\"text-align: right;\">\n",
       "      <th></th>\n",
       "      <th>UserID</th>\n",
       "      <th>Year</th>\n",
       "      <th>Movies</th>\n",
       "    </tr>\n",
       "  </thead>\n",
       "  <tbody>\n",
       "    <tr>\n",
       "      <td>0</td>\n",
       "      <td>1</td>\n",
       "      <td>1996</td>\n",
       "      <td>[122, 185, 231, 292, 316, 329, 355, 356, 362, ...</td>\n",
       "    </tr>\n",
       "    <tr>\n",
       "      <td>1</td>\n",
       "      <td>2</td>\n",
       "      <td>1997</td>\n",
       "      <td>[110, 151, 260, 376, 539, 590, 648, 719, 733, ...</td>\n",
       "    </tr>\n",
       "    <tr>\n",
       "      <td>2</td>\n",
       "      <td>3</td>\n",
       "      <td>2005</td>\n",
       "      <td>[110, 151, 213, 590, 1148, 1246, 1252, 1276, 1...</td>\n",
       "    </tr>\n",
       "    <tr>\n",
       "      <td>3</td>\n",
       "      <td>3</td>\n",
       "      <td>2006</td>\n",
       "      <td>[3408, 4535, 5299, 5527, 7155, 8533, 27821, 33...</td>\n",
       "    </tr>\n",
       "    <tr>\n",
       "      <td>4</td>\n",
       "      <td>4</td>\n",
       "      <td>1996</td>\n",
       "      <td>[21, 34, 39, 110, 150, 153, 161, 165, 208, 231...</td>\n",
       "    </tr>\n",
       "  </tbody>\n",
       "</table>\n",
       "</div>"
      ],
      "text/plain": [
       "   UserID  Year                                             Movies\n",
       "0       1  1996  [122, 185, 231, 292, 316, 329, 355, 356, 362, ...\n",
       "1       2  1997  [110, 151, 260, 376, 539, 590, 648, 719, 733, ...\n",
       "2       3  2005  [110, 151, 213, 590, 1148, 1246, 1252, 1276, 1...\n",
       "3       3  2006  [3408, 4535, 5299, 5527, 7155, 8533, 27821, 33...\n",
       "4       4  1996  [21, 34, 39, 110, 150, 153, 161, 165, 208, 231..."
      ]
     },
     "execution_count": 93,
     "metadata": {},
     "output_type": "execute_result"
    }
   ],
   "source": [
    "user.head()"
   ]
  },
  {
   "cell_type": "markdown",
   "metadata": {},
   "source": [
    "### 3. Encode tags to feature vectors"
   ]
  },
  {
   "cell_type": "code",
   "execution_count": 122,
   "metadata": {},
   "outputs": [
    {
     "data": {
      "text/html": [
       "<div>\n",
       "<style scoped>\n",
       "    .dataframe tbody tr th:only-of-type {\n",
       "        vertical-align: middle;\n",
       "    }\n",
       "\n",
       "    .dataframe tbody tr th {\n",
       "        vertical-align: top;\n",
       "    }\n",
       "\n",
       "    .dataframe thead th {\n",
       "        text-align: right;\n",
       "    }\n",
       "</style>\n",
       "<table border=\"1\" class=\"dataframe\">\n",
       "  <thead>\n",
       "    <tr style=\"text-align: right;\">\n",
       "      <th></th>\n",
       "      <th>UserID</th>\n",
       "      <th>MovieID</th>\n",
       "      <th>Tag</th>\n",
       "      <th>Timestamp</th>\n",
       "    </tr>\n",
       "  </thead>\n",
       "  <tbody>\n",
       "    <tr>\n",
       "      <td>0</td>\n",
       "      <td>15</td>\n",
       "      <td>4973</td>\n",
       "      <td>excellent!</td>\n",
       "      <td>1215184630</td>\n",
       "    </tr>\n",
       "    <tr>\n",
       "      <td>1</td>\n",
       "      <td>20</td>\n",
       "      <td>1747</td>\n",
       "      <td>politics</td>\n",
       "      <td>1188263867</td>\n",
       "    </tr>\n",
       "    <tr>\n",
       "      <td>2</td>\n",
       "      <td>20</td>\n",
       "      <td>1747</td>\n",
       "      <td>satire</td>\n",
       "      <td>1188263867</td>\n",
       "    </tr>\n",
       "    <tr>\n",
       "      <td>3</td>\n",
       "      <td>20</td>\n",
       "      <td>2424</td>\n",
       "      <td>chick flick 212</td>\n",
       "      <td>1188263835</td>\n",
       "    </tr>\n",
       "    <tr>\n",
       "      <td>4</td>\n",
       "      <td>20</td>\n",
       "      <td>2424</td>\n",
       "      <td>hanks</td>\n",
       "      <td>1188263835</td>\n",
       "    </tr>\n",
       "  </tbody>\n",
       "</table>\n",
       "</div>"
      ],
      "text/plain": [
       "   UserID  MovieID              Tag   Timestamp\n",
       "0      15     4973       excellent!  1215184630\n",
       "1      20     1747         politics  1188263867\n",
       "2      20     1747           satire  1188263867\n",
       "3      20     2424  chick flick 212  1188263835\n",
       "4      20     2424            hanks  1188263835"
      ]
     },
     "execution_count": 122,
     "metadata": {},
     "output_type": "execute_result"
    }
   ],
   "source": [
    "tags.head()\n",
    "tags.dropna(inplace=True)"
   ]
  },
  {
   "cell_type": "code",
   "execution_count": 133,
   "metadata": {},
   "outputs": [],
   "source": [
    "features = tags[['MovieID','Tag']].groupby('MovieID')['Tag'].apply(list).reset_index(name='Tags')"
   ]
  },
  {
   "cell_type": "code",
   "execution_count": 240,
   "metadata": {},
   "outputs": [],
   "source": [
    "tag_count = features['Tags'].apply(pd.Series).stack().value_counts().reset_index(name='tc')\n",
    "freq_tag = tag_count[tag_count.tc > 4]\n",
    "freq_tag = freq_tag.rename(columns={'index':'name', 'tc':'counts'})\n",
    "freq_set = freq_tag.name.tolist()"
   ]
  },
  {
   "cell_type": "code",
   "execution_count": 241,
   "metadata": {},
   "outputs": [],
   "source": [
    "def embed(tags):\n",
    "    enc=''\n",
    "    for tag in freq_set:\n",
    "        if tag in tags:\n",
    "            enc += '1'\n",
    "        else:\n",
    "            enc += '0'\n",
    "    return enc\n",
    "\n",
    "features['features'] = features.Tags.apply(embed)"
   ]
  },
  {
   "cell_type": "code",
   "execution_count": 242,
   "metadata": {},
   "outputs": [],
   "source": [
    "features[['MovieID', 'features']].to_csv('ml-10m/features.csv', index=False)\n",
    "# each movie has 3000 features;"
   ]
  },
  {
   "cell_type": "markdown",
   "metadata": {},
   "source": [
    "### Load data for training"
   ]
  },
  {
   "cell_type": "code",
   "execution_count": 30,
   "metadata": {},
   "outputs": [],
   "source": [
    "def load_data(year):\n",
    "    \"\"\"\n",
    "    - Year will be used as test set\n",
    "    - All previous years will be used as training set\n",
    "    - Return train_adj, train_feat, train_label, test_adj, test_feat, test_label\n",
    "    \"\"\"\n",
    "    users = pd.read_csv('ml-10m/users.csv')\n",
    "    features = pd.read_csv('ml-10m/features.csv', dtype={'features': 'str'})\n",
    "    labels = pd.read_csv('ml-10m/movies.csv', dtype={'Gencode': 'str'})\n",
    "\n",
    "    train_node_map = {}\n",
    "    test_node_map = {}\n",
    "    train_label = []\n",
    "    test_label = []\n",
    "    trainset = labels[labels.Year < year].MovieID.values\n",
    "    testset = labels[labels.Year == year].MovieID.values\n",
    "    train_feature = np.zeros((trainset.shape[0], 3000))\n",
    "    test_feature = np.zeros((testset.shape[0], 3000))\n",
    "    train_adj = defaultdict(set)\n",
    "    test_adj = defaultdict(set)\n",
    "\n",
    "    # get labels, also construct node maps\n",
    "    for index, row in enumerate(labels[labels.Year < year].values):\n",
    "        train_node_map[row[0]] = index\n",
    "        train_label.append(np.fromiter(map(int, row[4]), dtype=int))\n",
    "    for index, row in enumerate(labels[labels.Year == year].values):\n",
    "        test_node_map[row[0]] = index\n",
    "        test_label.append(np.fromiter(map(int, row[4]), dtype=int))\n",
    "\n",
    "    # get features\n",
    "    for _, row in features[features.MovieID.isin(trainset)].iterrows():\n",
    "        train_feature[train_node_map[row.MovieID]] = list(map(int, row.features))\n",
    "    for _, row in features[features.MovieID.isin(testset)].iterrows():\n",
    "        test_feature[test_node_map[row.MovieID]] = list(map(int, row.features))\n",
    "\n",
    "    # get adj list\n",
    "    for _, row in users[users.Year < year].iterrows():\n",
    "        for mvx in row.Movies:\n",
    "            try:\n",
    "                mv1 = train_node_map[mvx]\n",
    "                for mvy in row.Movies:\n",
    "                    if mvy == mvx:\n",
    "                        pass\n",
    "                    mv2 = train_node_map[mvy]\n",
    "                    train_adj[mv1].add(mv2)\n",
    "                    train_adj[mv2].add(mv1)\n",
    "            except:\n",
    "                pass\n",
    "    for _, row in users[users.Year == year].iterrows():\n",
    "        for mvx in row.Movies:\n",
    "            try:\n",
    "                mv1 = test_node_map[mvx]\n",
    "                for mvy in row.Movies:\n",
    "                    if mvy == mvx:\n",
    "                        pass\n",
    "                    mv2 = test_node_map[mvy]\n",
    "                    test_adj[mv1].add(mv2)\n",
    "                    test_adj[mv2].add(mv1)\n",
    "            except:\n",
    "                pass\n",
    "    return train_adj, train_feature, train_label, test_adj, test_feature, test_label"
   ]
  },
  {
   "cell_type": "code",
   "execution_count": 31,
   "metadata": {},
   "outputs": [],
   "source": [
    "train_adj, train_feat, train_label, test_adj, test_feat, test_label = load_data(1996)"
   ]
  },
  {
   "cell_type": "code",
   "execution_count": null,
   "metadata": {},
   "outputs": [],
   "source": []
  }
 ],
 "metadata": {
  "kernelspec": {
   "display_name": "Python 3",
   "language": "python",
   "name": "python3"
  },
  "language_info": {
   "codemirror_mode": {
    "name": "ipython",
    "version": 3
   },
   "file_extension": ".py",
   "mimetype": "text/x-python",
   "name": "python",
   "nbconvert_exporter": "python",
   "pygments_lexer": "ipython3",
   "version": "3.7.3"
  }
 },
 "nbformat": 4,
 "nbformat_minor": 4
}
