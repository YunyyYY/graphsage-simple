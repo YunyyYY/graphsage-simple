{
 "cells": [
  {
   "cell_type": "code",
   "execution_count": 1,
   "metadata": {},
   "outputs": [],
   "source": [
    "from graphsage.utils import load_ml20"
   ]
  },
  {
   "cell_type": "code",
   "execution_count": 12,
   "metadata": {},
   "outputs": [],
   "source": [
    "import numpy as np"
   ]
  },
  {
   "cell_type": "code",
   "execution_count": 2,
   "metadata": {},
   "outputs": [],
   "source": [
    "features, labels, adj_lists = load_ml20()"
   ]
  },
  {
   "cell_type": "code",
   "execution_count": 16,
   "metadata": {},
   "outputs": [
    {
     "name": "stdout",
     "output_type": "stream",
     "text": [
      "--------\n",
      " threshold 5\n",
      "4.0\n",
      "[20  8 14 20 22]\n",
      "0\n"
     ]
    }
   ],
   "source": [
    "mv_count = np.array(\n",
    "    [\n",
    "        [0, 2, 4, 6, 8],\n",
    "        [2, 0, 1, 4, 1],\n",
    "        [4, 1, 0, 3, 6],\n",
    "        [6, 4, 3, 0, 7],\n",
    "        [8, 1, 6, 7, 0]\n",
    "    ]\n",
    ")\n",
    "\n",
    "x = 5\n",
    "print(\"--------\\n threshold {}\".format(x))\n",
    "ed = np.sum((mv_count > x).astype(int)) / 2\n",
    "print(ed)\n",
    "single = np.sum(mv_count, axis=1)\n",
    "print(single)\n",
    "num_sin = np.sum((single == 0).astype(int))\n",
    "print(num_sin)\n"
   ]
  },
  {
   "cell_type": "code",
   "execution_count": 17,
   "metadata": {},
   "outputs": [],
   "source": [
    "mv_count[mv_count < 5] = 0"
   ]
  },
  {
   "cell_type": "code",
   "execution_count": 24,
   "metadata": {},
   "outputs": [
    {
     "data": {
      "text/plain": [
       "array([0, 2, 3])"
      ]
     },
     "execution_count": 24,
     "metadata": {},
     "output_type": "execute_result"
    }
   ],
   "source": [
    "k = 3\n",
    "u = np.array([2, 3, 2, 2, 5])\n",
    "np.where(u == 2)[0]\n",
    "# arr.argsort()[-k:]"
   ]
  },
  {
   "cell_type": "code",
   "execution_count": 26,
   "metadata": {},
   "outputs": [],
   "source": [
    "def precision_at_k(pred, true, k):\n",
    "    num = len(pred)\n",
    "    acc = 0\n",
    "    for i in range(num):\n",
    "        _y1 = pred[i].argsort()[-k:]\n",
    "        _y2 = np.where(true[i] == 1)[0]\n",
    "        count = 0\n",
    "        for _y in _y1:\n",
    "            if _y in _y2:\n",
    "                count += 1\n",
    "        acc += (count/k)\n",
    "    return acc/num"
   ]
  },
  {
   "cell_type": "code",
   "execution_count": 28,
   "metadata": {},
   "outputs": [
    {
     "data": {
      "text/plain": [
       "0.5"
      ]
     },
     "execution_count": 28,
     "metadata": {},
     "output_type": "execute_result"
    }
   ],
   "source": [
    "pred = [[0.54545, 0, 0.2323], [0.1111, 0.771, 0]]\n",
    "true = [[1, 1, 0], [0, 1, 1]]\n",
    "\n",
    "precision_at_k(np.array(pred), np.array(true), 2)"
   ]
  },
  {
   "cell_type": "code",
   "execution_count": 1,
   "metadata": {},
   "outputs": [],
   "source": [
    "import pandas as pd\n",
    "\n",
    "m = pd.read_csv(\"ml-10m/movies.csv\")"
   ]
  },
  {
   "cell_type": "code",
   "execution_count": 6,
   "metadata": {},
   "outputs": [
    {
     "data": {
      "text/plain": [
       "(763, 5)"
      ]
     },
     "execution_count": 6,
     "metadata": {},
     "output_type": "execute_result"
    }
   ],
   "source": [
    "m[m.Year.isin([2006, 2007, 2008])].shape"
   ]
  },
  {
   "cell_type": "code",
   "execution_count": 7,
   "metadata": {},
   "outputs": [
    {
     "data": {
      "text/plain": [
       "(1051, 5)"
      ]
     },
     "execution_count": 7,
     "metadata": {},
     "output_type": "execute_result"
    }
   ],
   "source": [
    "m[m.Year.isin([2005, 2006, 2007, 2008])].shape"
   ]
  },
  {
   "cell_type": "code",
   "execution_count": 8,
   "metadata": {},
   "outputs": [
    {
     "data": {
      "text/plain": [
       "(6550, 5)"
      ]
     },
     "execution_count": 8,
     "metadata": {},
     "output_type": "execute_result"
    }
   ],
   "source": [
    "m[m.Year<2005].shape"
   ]
  },
  {
   "cell_type": "code",
   "execution_count": 34,
   "metadata": {},
   "outputs": [
    {
     "data": {
      "text/plain": [
       "array([1., 1., 1., 1., 1.], dtype=float32)"
      ]
     },
     "execution_count": 34,
     "metadata": {},
     "output_type": "execute_result"
    }
   ],
   "source": [
    "b"
   ]
  },
  {
   "cell_type": "code",
   "execution_count": null,
   "metadata": {},
   "outputs": [],
   "source": []
  }
 ],
 "metadata": {
  "kernelspec": {
   "display_name": "torch",
   "language": "python",
   "name": "torch"
  },
  "language_info": {
   "codemirror_mode": {
    "name": "ipython",
    "version": 3
   },
   "file_extension": ".py",
   "mimetype": "text/x-python",
   "name": "python",
   "nbconvert_exporter": "python",
   "pygments_lexer": "ipython3",
   "version": "3.7.4"
  }
 },
 "nbformat": 4,
 "nbformat_minor": 4
}
