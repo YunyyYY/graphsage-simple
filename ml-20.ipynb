{
 "cells": [
  {
   "cell_type": "markdown",
   "metadata": {},
   "source": [
    "#### movieLens20"
   ]
  },
  {
   "cell_type": "code",
   "execution_count": 1,
   "metadata": {},
   "outputs": [],
   "source": [
    "import numpy as np\n",
    "import pandas as pd"
   ]
  },
  {
   "cell_type": "code",
   "execution_count": null,
   "metadata": {},
   "outputs": [],
   "source": [
    "## used to extract year of movie\n",
    "\n",
    "# movies.title = movies.title.apply(lambda x: re.sub('\\) ', ')', x))\n",
    "# movies[\"year\"] = movies.title.apply(lambda x: int(x[-5:-1]))\n",
    "# movies[\"title\"] = movies.title.apply(lambda x: x[0:-7])\n",
    "# movies.to_csv('ml-20m/movies.csv', index=False)"
   ]
  },
  {
   "cell_type": "code",
   "execution_count": 3,
   "metadata": {},
   "outputs": [
    {
     "data": {
      "text/html": [
       "<div>\n",
       "<style scoped>\n",
       "    .dataframe tbody tr th:only-of-type {\n",
       "        vertical-align: middle;\n",
       "    }\n",
       "\n",
       "    .dataframe tbody tr th {\n",
       "        vertical-align: top;\n",
       "    }\n",
       "\n",
       "    .dataframe thead th {\n",
       "        text-align: right;\n",
       "    }\n",
       "</style>\n",
       "<table border=\"1\" class=\"dataframe\">\n",
       "  <thead>\n",
       "    <tr style=\"text-align: right;\">\n",
       "      <th></th>\n",
       "      <th>movieId</th>\n",
       "      <th>title</th>\n",
       "      <th>genres</th>\n",
       "      <th>year</th>\n",
       "    </tr>\n",
       "  </thead>\n",
       "  <tbody>\n",
       "    <tr>\n",
       "      <th>0</th>\n",
       "      <td>1</td>\n",
       "      <td>Toy Story</td>\n",
       "      <td>Adventure|Animation|Children|Comedy|Fantasy</td>\n",
       "      <td>1995</td>\n",
       "    </tr>\n",
       "    <tr>\n",
       "      <th>1</th>\n",
       "      <td>2</td>\n",
       "      <td>Jumanji</td>\n",
       "      <td>Adventure|Children|Fantasy</td>\n",
       "      <td>1995</td>\n",
       "    </tr>\n",
       "    <tr>\n",
       "      <th>2</th>\n",
       "      <td>3</td>\n",
       "      <td>Grumpier Old Men</td>\n",
       "      <td>Comedy|Romance</td>\n",
       "      <td>1995</td>\n",
       "    </tr>\n",
       "    <tr>\n",
       "      <th>3</th>\n",
       "      <td>4</td>\n",
       "      <td>Waiting to Exhale</td>\n",
       "      <td>Comedy|Drama|Romance</td>\n",
       "      <td>1995</td>\n",
       "    </tr>\n",
       "    <tr>\n",
       "      <th>4</th>\n",
       "      <td>5</td>\n",
       "      <td>Father of the Bride Part II</td>\n",
       "      <td>Comedy</td>\n",
       "      <td>1995</td>\n",
       "    </tr>\n",
       "  </tbody>\n",
       "</table>\n",
       "</div>"
      ],
      "text/plain": [
       "   movieId                        title  \\\n",
       "0        1                    Toy Story   \n",
       "1        2                      Jumanji   \n",
       "2        3             Grumpier Old Men   \n",
       "3        4            Waiting to Exhale   \n",
       "4        5  Father of the Bride Part II   \n",
       "\n",
       "                                        genres  year  \n",
       "0  Adventure|Animation|Children|Comedy|Fantasy  1995  \n",
       "1                   Adventure|Children|Fantasy  1995  \n",
       "2                               Comedy|Romance  1995  \n",
       "3                         Comedy|Drama|Romance  1995  \n",
       "4                                       Comedy  1995  "
      ]
     },
     "execution_count": 3,
     "metadata": {},
     "output_type": "execute_result"
    }
   ],
   "source": [
    "movies = pd.read_csv('ml-20m/movies.csv')\n",
    "index_mv = {i: mv for i, mv in enumerate(movies.movieId.values)}\n",
    "movies.head()"
   ]
  },
  {
   "cell_type": "code",
   "execution_count": null,
   "metadata": {},
   "outputs": [],
   "source": [
    "# # check years\n",
    "# print(sorted(movies.year.unique()))\n",
    "# movies[movies.year == 2009].shape\n",
    "\n",
    "# # get number of movies each year\n",
    "# lens = {year: movies[movies.year == year].shape[0] for year in sorted(movies.year.unique())}\n",
    "# with open(\"ml-20m/stats_year.txt\", \"w\") as f:\n",
    "#     for k, v in lens.items():\n",
    "#         f.write(\"{},{}\\n\".format(k, v))"
   ]
  },
  {
   "cell_type": "code",
   "execution_count": 8,
   "metadata": {
    "collapsed": true,
    "jupyter": {
     "outputs_hidden": true
    }
   },
   "outputs": [
    {
     "data": {
      "text/html": [
       "<div>\n",
       "<style scoped>\n",
       "    .dataframe tbody tr th:only-of-type {\n",
       "        vertical-align: middle;\n",
       "    }\n",
       "\n",
       "    .dataframe tbody tr th {\n",
       "        vertical-align: top;\n",
       "    }\n",
       "\n",
       "    .dataframe thead th {\n",
       "        text-align: right;\n",
       "    }\n",
       "</style>\n",
       "<table border=\"1\" class=\"dataframe\">\n",
       "  <thead>\n",
       "    <tr style=\"text-align: right;\">\n",
       "      <th></th>\n",
       "      <th>userId</th>\n",
       "      <th>movies</th>\n",
       "    </tr>\n",
       "  </thead>\n",
       "  <tbody>\n",
       "    <tr>\n",
       "      <th>0</th>\n",
       "      <td>1</td>\n",
       "      <td>[2, 29, 32, 47, 50, 112, 151, 223, 253, 260, 2...</td>\n",
       "    </tr>\n",
       "    <tr>\n",
       "      <th>1</th>\n",
       "      <td>2</td>\n",
       "      <td>[3, 62, 70, 110, 242, 260, 266, 469, 480, 541,...</td>\n",
       "    </tr>\n",
       "    <tr>\n",
       "      <th>2</th>\n",
       "      <td>3</td>\n",
       "      <td>[1, 24, 32, 50, 160, 173, 175, 196, 223, 260, ...</td>\n",
       "    </tr>\n",
       "    <tr>\n",
       "      <th>3</th>\n",
       "      <td>4</td>\n",
       "      <td>[6, 10, 19, 32, 165, 329, 350, 356, 367, 368, ...</td>\n",
       "    </tr>\n",
       "    <tr>\n",
       "      <th>4</th>\n",
       "      <td>5</td>\n",
       "      <td>[2, 11, 17, 60, 62, 104, 110, 140, 141, 150, 2...</td>\n",
       "    </tr>\n",
       "  </tbody>\n",
       "</table>\n",
       "</div>"
      ],
      "text/plain": [
       "   userId                                             movies\n",
       "0       1  [2, 29, 32, 47, 50, 112, 151, 223, 253, 260, 2...\n",
       "1       2  [3, 62, 70, 110, 242, 260, 266, 469, 480, 541,...\n",
       "2       3  [1, 24, 32, 50, 160, 173, 175, 196, 223, 260, ...\n",
       "3       4  [6, 10, 19, 32, 165, 329, 350, 356, 367, 368, ...\n",
       "4       5  [2, 11, 17, 60, 62, 104, 110, 140, 141, 150, 2..."
      ]
     },
     "execution_count": 8,
     "metadata": {},
     "output_type": "execute_result"
    }
   ],
   "source": [
    "# no need ratings\n",
    "# ratings = pd.read_csv('ml-20m/ratings.csv')\n",
    "# ratings.head()\n",
    "# user = ratings.groupby(['userId'])['movieId'].apply(np.array).reset_index(name='movies')\n",
    "# user.head()"
   ]
  },
  {
   "cell_type": "code",
   "execution_count": 10,
   "metadata": {},
   "outputs": [],
   "source": [
    "# from collections import defaultdict\n",
    "# edge = defaultdict(int)\n",
    "\n",
    "# with open(\"edges.txt\", \"w\") as f:\n",
    "#     for _, row in user.iterrows():\n",
    "#         for mvx in row.movies:\n",
    "#             try:\n",
    "#                 mv1 = node_dict[mvx]\n",
    "#                 for mvy in row.movies:\n",
    "#                     if mvy == mvx:\n",
    "#                         pass\n",
    "#                     mv2 = node_dict[mvy]\n",
    "#                     if mv2 < mv1:\n",
    "#                         mv1, mv2 = mv2, mv1\n",
    "#                     edge[(mv1, mv2)] += 1\n",
    "#             except:\n",
    "#                 pass"
   ]
  },
  {
   "cell_type": "code",
   "execution_count": 10,
   "metadata": {},
   "outputs": [],
   "source": [
    "tags = pd.read_csv(\"ml-20m/tags.csv\")\n",
    "tag_count = tags.groupby([\"tag\"]).count().reset_index()\n",
    "tag_map = {t:i for i, t in enumerate(tag_count[tag_count.userId>1].tag.values)}\n",
    "\n",
    "with open('ml-20m/tag_map.txt', 'w') as f:\n",
    "    for k, v in tag_map.items():\n",
    "        f.write('{} {}\\n'.format(k, v))"
   ]
  },
  {
   "cell_type": "code",
   "execution_count": 42,
   "metadata": {},
   "outputs": [],
   "source": [
    "## This is not used in tags\n",
    "# from datetime import datetime\n",
    "\n",
    "# def year(timestamp):\n",
    "#     return datetime.fromtimestamp(timestamp).year\n",
    "\n",
    "# tags['year'] = tags.timestamp.apply(year)\n",
    "## tags = tags[['userId', 'movieId', 'tag', 'timestamp', 'year']]"
   ]
  },
  {
   "cell_type": "code",
   "execution_count": 27,
   "metadata": {
    "collapsed": true,
    "jupyter": {
     "outputs_hidden": true
    }
   },
   "outputs": [
    {
     "data": {
      "text/html": [
       "<div>\n",
       "<style scoped>\n",
       "    .dataframe tbody tr th:only-of-type {\n",
       "        vertical-align: middle;\n",
       "    }\n",
       "\n",
       "    .dataframe tbody tr th {\n",
       "        vertical-align: top;\n",
       "    }\n",
       "\n",
       "    .dataframe thead th {\n",
       "        text-align: right;\n",
       "    }\n",
       "</style>\n",
       "<table border=\"1\" class=\"dataframe\">\n",
       "  <thead>\n",
       "    <tr style=\"text-align: right;\">\n",
       "      <th></th>\n",
       "      <th>movieId</th>\n",
       "      <th>tag</th>\n",
       "      <th>tagenc</th>\n",
       "    </tr>\n",
       "  </thead>\n",
       "  <tbody>\n",
       "    <tr>\n",
       "      <th>0</th>\n",
       "      <td>1</td>\n",
       "      <td>[Watched, computer animation, Disney animated ...</td>\n",
       "      <td>[8649, 10931, 2320, 6509, 8365, 6508, 9297, 12...</td>\n",
       "    </tr>\n",
       "    <tr>\n",
       "      <th>1</th>\n",
       "      <td>2</td>\n",
       "      <td>[time travel, adapted from:book, board game, c...</td>\n",
       "      <td>[18251, 8989, 10079, 10603, 12572, 13136, 1683...</td>\n",
       "    </tr>\n",
       "    <tr>\n",
       "      <th>2</th>\n",
       "      <td>3</td>\n",
       "      <td>[old people that is actually funny, sequel fev...</td>\n",
       "      <td>[17035, 12988, 14757, 15414, 2994, 17032, 3907...</td>\n",
       "    </tr>\n",
       "    <tr>\n",
       "      <th>3</th>\n",
       "      <td>4</td>\n",
       "      <td>[chick flick, revenge, characters, chick flick...</td>\n",
       "      <td>[10564, 16584, 10508, 10564, 10508, 1428]</td>\n",
       "    </tr>\n",
       "    <tr>\n",
       "      <th>4</th>\n",
       "      <td>5</td>\n",
       "      <td>[Diane Keaton, family, sequel, Steve Martin, w...</td>\n",
       "      <td>[2280, 12168, 17032, 7784, 19064, 17035, 2803,...</td>\n",
       "    </tr>\n",
       "  </tbody>\n",
       "</table>\n",
       "</div>"
      ],
      "text/plain": [
       "   movieId                                                tag  \\\n",
       "0        1  [Watched, computer animation, Disney animated ...   \n",
       "1        2  [time travel, adapted from:book, board game, c...   \n",
       "2        3  [old people that is actually funny, sequel fev...   \n",
       "3        4  [chick flick, revenge, characters, chick flick...   \n",
       "4        5  [Diane Keaton, family, sequel, Steve Martin, w...   \n",
       "\n",
       "                                              tagenc  \n",
       "0  [8649, 10931, 2320, 6509, 8365, 6508, 9297, 12...  \n",
       "1  [18251, 8989, 10079, 10603, 12572, 13136, 1683...  \n",
       "2  [17035, 12988, 14757, 15414, 2994, 17032, 3907...  \n",
       "3          [10564, 16584, 10508, 10564, 10508, 1428]  \n",
       "4  [2280, 12168, 17032, 7784, 19064, 17035, 2803,...  "
      ]
     },
     "execution_count": 27,
     "metadata": {},
     "output_type": "execute_result"
    }
   ],
   "source": [
    "mv_tag = tags.groupby([\"movieId\"])['tag'].apply(list).reset_index()\n",
    "mv_tag.head()"
   ]
  },
  {
   "cell_type": "code",
   "execution_count": 114,
   "metadata": {},
   "outputs": [],
   "source": [
    "def _tag_enc(x):\n",
    "    _enc = \"\"\n",
    "    for tag in x:\n",
    "        try:\n",
    "            _enc += str(tag_map[tag])\n",
    "            _enc += \" \"\n",
    "        except:\n",
    "            pass\n",
    "    return np.array(_enc)\n",
    "\n",
    "mv_tag['tagenc'] = mv_tag.tag.apply(_tag_enc)\n",
    "mv_tag[['movieId', 'tagenc']].to_csv(\"ml-20m/tag_enc.csv\", index=False)"
   ]
  },
  {
   "cell_type": "code",
   "execution_count": null,
   "metadata": {},
   "outputs": [],
   "source": []
  }
 ],
 "metadata": {
  "kernelspec": {
   "display_name": "torch",
   "language": "python",
   "name": "torch"
  },
  "language_info": {
   "codemirror_mode": {
    "name": "ipython",
    "version": 3
   },
   "file_extension": ".py",
   "mimetype": "text/x-python",
   "name": "python",
   "nbconvert_exporter": "python",
   "pygments_lexer": "ipython3",
   "version": "3.7.4"
  }
 },
 "nbformat": 4,
 "nbformat_minor": 4
}
